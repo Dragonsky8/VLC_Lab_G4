{
 "cells": [
  {
   "cell_type": "code",
   "execution_count": 5,
   "id": "e30c9df9-296d-4c2b-a381-9402debf1e8e",
   "metadata": {},
   "outputs": [
    {
     "ename": "ModuleNotFoundError",
     "evalue": "No module named 'pywt'",
     "output_type": "error",
     "traceback": [
      "\u001b[1;31m---------------------------------------------------------------------------\u001b[0m",
      "\u001b[1;31mModuleNotFoundError\u001b[0m                       Traceback (most recent call last)",
      "Cell \u001b[1;32mIn[5], line 8\u001b[0m\n\u001b[0;32m      6\u001b[0m \u001b[38;5;28;01mimport\u001b[39;00m \u001b[38;5;21;01mmatplotlib\u001b[39;00m\u001b[38;5;21;01m.\u001b[39;00m\u001b[38;5;21;01manimation\u001b[39;00m \u001b[38;5;28;01mas\u001b[39;00m \u001b[38;5;21;01manimation\u001b[39;00m\n\u001b[0;32m      7\u001b[0m \u001b[38;5;28;01mimport\u001b[39;00m \u001b[38;5;21;01mpandas\u001b[39;00m \u001b[38;5;28;01mas\u001b[39;00m \u001b[38;5;21;01mpd\u001b[39;00m\n\u001b[1;32m----> 8\u001b[0m \u001b[38;5;28;01mimport\u001b[39;00m \u001b[38;5;21;01mpywt\u001b[39;00m\n",
      "\u001b[1;31mModuleNotFoundError\u001b[0m: No module named 'pywt'"
     ]
    }
   ],
   "source": [
    "import zombie_imp\n",
    "import csv\n",
    "import serial\n",
    "import time \n",
    "import matplotlib.pyplot as plt\n",
    "import matplotlib.animation as animation\n",
    "import pandas as pd\n",
    "import pywt"
   ]
  },
  {
   "cell_type": "code",
   "execution_count": 2,
   "id": "aeb4d56f-8ffc-4395-bd9a-15cd1b245551",
   "metadata": {},
   "outputs": [],
   "source": [
    "# Initialize the Serial port\n",
    "ser = serial.Serial('COM3', 115200)  # Change the port and baud rate according to transmitter\n",
    "\n",
    "# create the CSV file\n",
    "with open('sensor_data.csv', mode='w', newline='') as file:\n",
    "    writer = csv.writer(file)\n",
    "    writer.writerow(['Cell 1', 'Cell 2', 'Cell 3'])  \n",
    "\n",
    "    # read the data from port and store in CSV file\n",
    "    try:\n",
    "        while True:\n",
    "            data = ser.readline().decode('utf-8').strip()  # read data from port\n",
    "            if data:\n",
    "                values = data.split(' ')  # split with space\n",
    "                if len(values) == 3:  # make sure there are three values\n",
    "                    writer.writerow([int(val) for val in values])  # store the data\n",
    "    except KeyboardInterrupt:  # stop iteration by Ctrl+C\n",
    "        pass"
   ]
  },
  {
   "cell_type": "code",
   "execution_count": null,
   "id": "3e4073f1-1bcc-467c-bc00-f11621c0f681",
   "metadata": {},
   "outputs": [],
   "source": [
    "# read the csv file\n",
    "df = pd.read_csv('sensor_data.csv')\n",
    "\n",
    "# get the data of each solar cell\n",
    "solar_cell_1 = df['Cell 1']\n",
    "solar_cell_2 = df['Cell 2']\n",
    "solar_cell_3 = df['Cell 3']\n",
    "\n",
    "# apply DWT for the current value of each solar cell\n",
    "coeffs_1 = pywt.wavedec(solar_cell_1, 'haar', level=1)\n",
    "coeffs_2 = pywt.wavedec(solar_cell_2, 'haar', level=1)\n",
    "coeffs_3 = pywt.wavedec(solar_cell_3, 'haar', level=1)\n",
    "\n",
    "print(\"Coefficients for solar_cell_1:\", coeffs_1)\n",
    "print(\"Coefficients for solar_cell_2:\", coeffs_2)\n",
    "print(\"Coefficients for solar_cell_3:\", coeffs_3)"
   ]
  }
 ],
 "metadata": {
  "kernelspec": {
   "display_name": "Python 3 (ipykernel)",
   "language": "python",
   "name": "python3"
  },
  "language_info": {
   "codemirror_mode": {
    "name": "ipython",
    "version": 3
   },
   "file_extension": ".py",
   "mimetype": "text/x-python",
   "name": "python",
   "nbconvert_exporter": "python",
   "pygments_lexer": "ipython3",
   "version": "3.12.0"
  }
 },
 "nbformat": 4,
 "nbformat_minor": 5
}
