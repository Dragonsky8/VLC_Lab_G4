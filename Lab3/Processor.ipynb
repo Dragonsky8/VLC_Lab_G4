{
 "cells": [
  {
   "cell_type": "code",
   "execution_count": 1,
   "id": "e30c9df9-296d-4c2b-a381-9402debf1e8e",
   "metadata": {},
   "outputs": [],
   "source": [
    "import zombie_imp\n",
    "import csv\n",
    "import serial\n",
    "import time \n",
    "import matplotlib.pyplot as plt\n",
    "import matplotlib.animation as animation"
   ]
  },
  {
   "cell_type": "code",
   "execution_count": 2,
   "id": "aeb4d56f-8ffc-4395-bd9a-15cd1b245551",
   "metadata": {},
   "outputs": [],
   "source": [
    "# Initialize the Serial port\n",
    "ser = serial.Serial('COM8', 115200)  # Change the port and baud rate according to transmitter\n",
    "\n",
    "# create the CSV file\n",
    "with open('sensor_data.csv', mode='w', newline='') as file:\n",
    "    writer = csv.writer(file)\n",
    "    writer.writerow(['Cell 1', 'Cell 2', 'Cell 3'])  \n",
    "\n",
    "    # read the data from port and store in CSV file\n",
    "    try:\n",
    "        while True:\n",
    "            data = ser.readline().decode('utf-8').strip()  # read data from port\n",
    "            if data:\n",
    "                values = data.split(' ')  # split with space\n",
    "                if len(values) == 3:  # make sure there are three values\n",
    "                    writer.writerow([int(val) for val in values])  # store the data\n",
    "    except KeyboardInterrupt:  # stop iteration by Ctrl+C\n",
    "        pass"
   ]
  },
  {
   "cell_type": "code",
   "execution_count": null,
   "id": "3e4073f1-1bcc-467c-bc00-f11621c0f681",
   "metadata": {},
   "outputs": [],
   "source": []
  }
 ],
 "metadata": {
  "kernelspec": {
   "display_name": "Python 3 (ipykernel)",
   "language": "python",
   "name": "python3"
  },
  "language_info": {
   "codemirror_mode": {
    "name": "ipython",
    "version": 3
   },
   "file_extension": ".py",
   "mimetype": "text/x-python",
   "name": "python",
   "nbconvert_exporter": "python",
   "pygments_lexer": "ipython3",
   "version": "3.12.0"
  }
 },
 "nbformat": 4,
 "nbformat_minor": 5
}
